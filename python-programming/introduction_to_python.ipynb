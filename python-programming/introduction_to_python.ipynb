{
 "cells": [
  {
   "cell_type": "markdown",
   "id": "transparent-bristol",
   "metadata": {},
   "source": [
    "# **Introduction to Python**\n",
    "\n",
    "[![Open In Colab](https://colab.research.google.com/assets/colab-badge.svg)](https://colab.research.google.com/github/biodatlab/egbi101/blob/main/python-programming/introduction_to_python.ipynb)\n",
    "\n",
    "### 1. Introduction\n",
    "\n",
    "Python is a popular programming language in biomedical engineering and data science.\n",
    "In this class, we'll learn Python basics with examples from biomedical applications."
   ]
  },
  {
   "cell_type": "code",
   "execution_count": null,
   "id": "c38338dc",
   "metadata": {},
   "outputs": [],
   "source": [
    "# Print your first line of code <- This is a comment in Python\n",
    "print(\"Hello, Biomedical Engineering!\")"
   ]
  },
  {
   "cell_type": "markdown",
   "id": "supposed-victory",
   "metadata": {},
   "source": [
    "### 2. Variables and Built-in Functions\n",
    "\n",
    "Variables store data that can be modified later in the program.\n",
    "Python has several built-in data types useful for biomedical data."
   ]
  },
  {
   "cell_type": "code",
   "execution_count": null,
   "id": "144d4d14",
   "metadata": {},
   "outputs": [],
   "source": [
    "# Numerical data (common in medical measurements)\n",
    "heart_rate = 75  # integer\n",
    "body_temp = 37.5  # float\n",
    "patient_name = \"John Doe\"  # string\n",
    "is_patient = True  # boolean\n",
    "\n",
    "# Built-in functions\n",
    "print(type(heart_rate))\n",
    "print(type(body_temp))\n",
    "print(len(patient_name))"
   ]
  },
  {
   "cell_type": "markdown",
   "id": "ba76de99",
   "metadata": {},
   "source": [
    "### 4. Strings\n",
    "\n",
    "Strings are used for text data, common in medical records."
   ]
  },
  {
   "cell_type": "code",
   "execution_count": null,
   "id": "64131c4b",
   "metadata": {},
   "outputs": [],
   "source": [
    "# String operations\n",
    "diagnosis = \"Pneumonia\"\n",
    "print(diagnosis.upper())\n",
    "print(diagnosis.lower())\n",
    "print(f\"The diagnosis is {diagnosis}\")\n",
    "\n",
    "# String slicing\n",
    "dna_sequence = \"ATCGATCG\"\n",
    "print(dna_sequence[0:3])  # First three bases"
   ]
  },
  {
   "cell_type": "markdown",
   "id": "medium-velvet",
   "metadata": {},
   "source": [
    "### 5. Lists\n",
    "\n",
    "Lists store collections of items, useful for medical data series."
   ]
  },
  {
   "cell_type": "code",
   "execution_count": null,
   "id": "documented-saying",
   "metadata": {},
   "outputs": [],
   "source": [
    "# Creating and manipulating lists\n",
    "blood_pressure = [120, 80]  # systolic, diastolic\n",
    "temperatures = [36.5, 37.0, 37.5, 37.2]\n",
    "\n",
    "# List operations\n",
    "temperatures.append(36.8)\n",
    "average_temp = sum(temperatures) / len(temperatures)\n",
    "print(f\"Average temperature: {average_temp:.1f}\")"
   ]
  },
  {
   "cell_type": "markdown",
   "id": "banned-crawford",
   "metadata": {},
   "source": [
    "### 6. Tuples and Sets\n",
    "\n",
    "Tuples are immutable lists, Sets store unique items."
   ]
  },
  {
   "cell_type": "code",
   "execution_count": null,
   "id": "proof-immune",
   "metadata": {},
   "outputs": [],
   "source": [
    "# Tuples for fixed medical measurements\n",
    "vital_signs = (98.6, 72, 120, 80)  # temp, HR, BP\n",
    "print(f\"Temperature: {vital_signs[0]}\")\n",
    "\n",
    "# Sets for unique values\n",
    "blood_types = {\"A+\", \"B+\", \"O+\", \"AB+\"}\n",
    "print(blood_types)"
   ]
  },
  {
   "cell_type": "markdown",
   "id": "72dbcaf8",
   "metadata": {},
   "source": [
    "### 7. Dictionaries\n",
    "\n",
    "Dictionaries store key-value pairs, perfect for medical records."
   ]
  },
  {
   "cell_type": "code",
   "execution_count": null,
   "id": "bfc6b982",
   "metadata": {},
   "outputs": [],
   "source": [
    "patient = {\n",
    "    \"name\": \"John Doe\",\n",
    "    \"age\": 45,\n",
    "    \"blood_type\": \"O+\",\n",
    "    \"conditions\": [\"hypertension\", \"diabetes\"]\n",
    "}\n",
    "\n",
    "print(patient[\"name\"])\n",
    "print(patient.get(\"conditions\"))"
   ]
  },
  {
   "cell_type": "markdown",
   "id": "c7991fbc",
   "metadata": {},
   "source": [
    "### 8. Conditionals\n",
    "\n",
    "Conditional statements make decisions based on data."
   ]
  },
  {
   "cell_type": "code",
   "execution_count": null,
   "id": "5cda8220",
   "metadata": {},
   "outputs": [],
   "source": [
    "def check_fever(temperature):\n",
    "    if temperature > 38.0:\n",
    "        return \"Fever detected\"\n",
    "    elif temperature >= 37.5:\n",
    "        return \"Elevated temperature\"\n",
    "    else:\n",
    "        return \"Normal temperature\"\n",
    "\n",
    "print(check_fever(38.5))"
   ]
  },
  {
   "cell_type": "markdown",
   "id": "c969bf12",
   "metadata": {},
   "source": [
    "### 9. Loops\n",
    "\n",
    "Loops iterate over data collections."
   ]
  },
  {
   "cell_type": "code",
   "execution_count": null,
   "id": "7afd668f",
   "metadata": {},
   "outputs": [],
   "source": [
    "# For loop with temperatures\n",
    "temperatures = [36.5, 37.0, 38.5, 37.2]\n",
    "for temp in temperatures:\n",
    "    print(check_fever(temp))"
   ]
  },
  {
   "cell_type": "markdown",
   "id": "57791cb7",
   "metadata": {},
   "source": [
    "### 10. Functions (20 minutes)\n",
    "\n",
    "Functions are reusable blocks of code."
   ]
  },
  {
   "cell_type": "code",
   "execution_count": null,
   "id": "9b88ceff",
   "metadata": {},
   "outputs": [],
   "source": [
    "def calculate_bmi(weight, height):\n",
    "    \"\"\"Calculate Body Mass Index\"\"\"\n",
    "    return weight / (height ** 2)\n",
    "\n",
    "def interpret_bmi(bmi):\n",
    "    \"\"\"Interpret BMI value\"\"\"\n",
    "    if bmi < 18.5:\n",
    "        return \"Underweight\"\n",
    "    elif bmi < 25:\n",
    "        return \"Normal\"\n",
    "    elif bmi < 30:\n",
    "        return \"Overweight\"\n",
    "    else:\n",
    "        return \"Obese\""
   ]
  },
  {
   "cell_type": "code",
   "execution_count": null,
   "id": "f1a4fbcc",
   "metadata": {},
   "outputs": [],
   "source": [
    "# Example usage\n",
    "weight = 70  # kg\n",
    "height = 1.75  # m\n",
    "bmi = calculate_bmi(weight, height)\n",
    "print(f\"BMI: {bmi:.1f}\")\n",
    "print(f\"Category: {interpret_bmi(bmi)}\")"
   ]
  }
 ],
 "metadata": {
  "kernelspec": {
   "display_name": "Python 3",
   "language": "python",
   "name": "python3"
  },
  "language_info": {
   "codemirror_mode": {
    "name": "ipython",
    "version": 3
   },
   "file_extension": ".py",
   "mimetype": "text/x-python",
   "name": "python",
   "nbconvert_exporter": "python",
   "pygments_lexer": "ipython3",
   "version": "3.8.8"
  }
 },
 "nbformat": 4,
 "nbformat_minor": 5
}
