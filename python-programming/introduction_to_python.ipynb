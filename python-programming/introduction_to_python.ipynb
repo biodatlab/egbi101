{
  "cells": [
    {
      "cell_type": "markdown",
      "id": "transparent-bristol",
      "metadata": {
        "id": "transparent-bristol"
      },
      "source": [
        "# **Introduction to Python**\n",
        "\n",
        "[![Open In Colab](https://colab.research.google.com/assets/colab-badge.svg)](https://colab.research.google.com/github/biodatlab/egbi101/blob/main/python-programming/introduction_to_python.ipynb)\n",
        "\n",
        "### 1. Introduction\n",
        "\n",
        "Python is a popular computer programming language in biomedical engineering and data science.\n",
        "In this class, we'll learn Python basics with some examples from biomedical applications."
      ]
    },
    {
      "cell_type": "markdown",
      "source": [
        "When compling each cell of code, you can either press ```run button``` or simply hit the ```shft + enter buttons``` at the same time. Results will then appear on the following lines. Let's try with this example."
      ],
      "metadata": {
        "id": "MO1E0sDZD6ME"
      },
      "id": "MO1E0sDZD6ME"
    },
    {
      "cell_type": "code",
      "execution_count": 1,
      "id": "c38338dc",
      "metadata": {
        "colab": {
          "base_uri": "https://localhost:8080/"
        },
        "id": "c38338dc",
        "outputId": "b396ec24-373d-4e3e-bc83-b5d78cbac89c"
      },
      "outputs": [
        {
          "output_type": "stream",
          "name": "stdout",
          "text": [
            "Hello, Biomedical Engineering!\n"
          ]
        }
      ],
      "source": [
        "# Print your first line of code <- This is a comment in Python\n",
        "print(\"Hello, Biomedical Engineering!\")"
      ]
    },
    {
      "cell_type": "markdown",
      "id": "supposed-victory",
      "metadata": {
        "id": "supposed-victory"
      },
      "source": [
        "### 2. Variables and Built-in Functions\n",
        "\n",
        "Variables store data that can be modified later in the program.\n",
        "Python has several built-in data types useful for biomedical data."
      ]
    },
    {
      "cell_type": "code",
      "execution_count": 2,
      "id": "144d4d14",
      "metadata": {
        "colab": {
          "base_uri": "https://localhost:8080/"
        },
        "id": "144d4d14",
        "outputId": "7122d541-89dd-4161-fdee-274a3f12c094"
      },
      "outputs": [
        {
          "output_type": "stream",
          "name": "stdout",
          "text": [
            "<class 'int'>\n",
            "<class 'float'>\n",
            "Length of patient name: 8\n"
          ]
        }
      ],
      "source": [
        "# Numerical data (common in medical measurements)\n",
        "heart_rate = 75  # integer\n",
        "body_temp = 37.5  # float\n",
        "patient_name = \"John Doe\"  # string\n",
        "is_patient = True  # boolean\n",
        "\n",
        "# Built-in functions\n",
        "print(type(heart_rate))\n",
        "print(type(body_temp))\n",
        "print(f\"Length of patient name: {len(patient_name)}\") # This counts a space too"
      ]
    },
    {
      "cell_type": "markdown",
      "source": [
        "####  Exercise:\n",
        "- Try create new variables to store patient age, weight, and height"
      ],
      "metadata": {
        "id": "6uh-u6KBFW7V"
      },
      "id": "6uh-u6KBFW7V"
    },
    {
      "cell_type": "code",
      "source": [
        "# Let's generate some codes here!"
      ],
      "metadata": {
        "id": "PaiBPgX2GEgz"
      },
      "id": "PaiBPgX2GEgz",
      "execution_count": 4,
      "outputs": []
    },
    {
      "cell_type": "markdown",
      "id": "ba76de99",
      "metadata": {
        "id": "ba76de99"
      },
      "source": [
        "### 4. Strings\n",
        "\n",
        "Strings are used for text data, common in medical records."
      ]
    },
    {
      "cell_type": "code",
      "execution_count": 6,
      "id": "64131c4b",
      "metadata": {
        "colab": {
          "base_uri": "https://localhost:8080/"
        },
        "id": "64131c4b",
        "outputId": "afb193dc-a899-4a3e-c68b-7515ba4da57a"
      },
      "outputs": [
        {
          "output_type": "stream",
          "name": "stdout",
          "text": [
            "PNEUMONIA\n",
            "pneumonia\n",
            "The diagnosis is Pneumonia\n",
            "The diagnosis is Pneumonia\n",
            "ATC\n"
          ]
        }
      ],
      "source": [
        "# String operations\n",
        "diagnosis = \"Pneumonia\"\n",
        "print(diagnosis.upper())\n",
        "print(diagnosis.lower())\n",
        "print(f\"The diagnosis is {diagnosis}\")\n",
        "print(\"The diagnosis is\", diagnosis) # Another method to display\n",
        "\n",
        "# String slicing\n",
        "dna_sequence = \"ATCGATCG\"\n",
        "print(dna_sequence[0:3])  # Display the first three bases"
      ]
    },
    {
      "cell_type": "markdown",
      "source": [
        "### Exercise\n",
        "1. Store the patient name in ```patient_name``` including firstname and lastname. The 3 first letters of lastname is used to retrive data from the healthcare database. Try print those 3 letters out as all capital letters."
      ],
      "metadata": {
        "id": "tWuzCIZpu-7H"
      },
      "id": "tWuzCIZpu-7H"
    },
    {
      "cell_type": "code",
      "source": [
        "# Let's generate some codes here!"
      ],
      "metadata": {
        "id": "41hG6ckdvq9E"
      },
      "id": "41hG6ckdvq9E",
      "execution_count": null,
      "outputs": []
    },
    {
      "cell_type": "markdown",
      "source": [
        "2. From the ```dna_sequence``` above, the DNA analyst want to identify whether there is a sequence of `CGA` and `ACG` or not. Display the result as `TRUE` or `FALSE` using ``.find``"
      ],
      "metadata": {
        "id": "T5krQELHv6V-"
      },
      "id": "T5krQELHv6V-"
    },
    {
      "cell_type": "code",
      "source": [
        "# Let's generate some codes here!"
      ],
      "metadata": {
        "id": "LFbvzl8WwuaA"
      },
      "id": "LFbvzl8WwuaA",
      "execution_count": null,
      "outputs": []
    },
    {
      "cell_type": "markdown",
      "id": "medium-velvet",
      "metadata": {
        "id": "medium-velvet"
      },
      "source": [
        "### 5. Lists\n",
        "\n",
        "Lists store collections of items, useful for storing medical data series.\n",
        "\n",
        "You can add or remove the data from the list by using ```.append``` or ```.remove```."
      ]
    },
    {
      "cell_type": "code",
      "execution_count": 7,
      "id": "documented-saying",
      "metadata": {
        "colab": {
          "base_uri": "https://localhost:8080/"
        },
        "id": "documented-saying",
        "outputId": "83afc05e-997b-4e34-d2d5-4a712e5fb293"
      },
      "outputs": [
        {
          "output_type": "stream",
          "name": "stdout",
          "text": [
            "Average temperature: 37.0\n"
          ]
        }
      ],
      "source": [
        "# Creating and manipulating lists\n",
        "blood_pressure = [120, 80]  # systolic, diastolic\n",
        "temperatures = [36.5, 37.0, 37.5, 37.2]\n",
        "\n",
        "# List operations\n",
        "temperatures.append(36.8)   # adding new value to the lists\n",
        "average_temp = sum(temperatures) / len(temperatures)\n",
        "print(f\"Average temperature: {average_temp:.1f}\")"
      ]
    },
    {
      "cell_type": "markdown",
      "source": [
        "#### Exercise\n",
        "- Try giving some inputs as a list of body temperature for **a one-week period** (adding 2 more data) then **find average, minimum, and maximum temperature**.\n",
        "- Note: One data of 37.2 is mistyped, try replace it as 36.9\n",
        "\n",
        "(Hint:) Setting new variable for a ```mistyped_temperature``` and change that to the correct value"
      ],
      "metadata": {
        "id": "uTtVVIp-NCiF"
      },
      "id": "uTtVVIp-NCiF"
    },
    {
      "cell_type": "code",
      "source": [
        "# Let's generate some codes here!"
      ],
      "metadata": {
        "id": "0OwsEha-OEnN"
      },
      "id": "0OwsEha-OEnN",
      "execution_count": 10,
      "outputs": []
    },
    {
      "cell_type": "markdown",
      "id": "banned-crawford",
      "metadata": {
        "id": "banned-crawford"
      },
      "source": [
        "### 6. Tuples and Sets\n",
        "\n",
        "Tuples are immutable lists, Sets store unique items."
      ]
    },
    {
      "cell_type": "code",
      "execution_count": 5,
      "id": "proof-immune",
      "metadata": {
        "colab": {
          "base_uri": "https://localhost:8080/"
        },
        "id": "proof-immune",
        "outputId": "ebd84837-fe4a-481d-d649-bb6f040cee8f"
      },
      "outputs": [
        {
          "output_type": "stream",
          "name": "stdout",
          "text": [
            "Temperature: 98.6\n",
            "{'B+', 'A+', 'O+', 'AB+'}\n"
          ]
        }
      ],
      "source": [
        "# Tuples for fixed medical measurements\n",
        "vital_signs = (98.6, 72, 120, 80)  # temp, HR, BP\n",
        "print(f\"Temperature: {vital_signs[0]}\")\n",
        "\n",
        "# Sets for unique values\n",
        "blood_types = {\"A+\", \"B+\", \"O+\", \"AB+\"}\n",
        "print(blood_types)"
      ]
    },
    {
      "cell_type": "markdown",
      "source": [
        "#### Exercise:\n",
        "1. Want to display the `vital_signs` only for blood pressure of systolic and diastolic by using [x:x] where x is an index inside the tuples"
      ],
      "metadata": {
        "id": "R5VV70aeyFyb"
      },
      "id": "R5VV70aeyFyb"
    },
    {
      "cell_type": "code",
      "source": [
        "# Let's generate some codes here!"
      ],
      "metadata": {
        "id": "PooI5GB_ydnQ"
      },
      "id": "PooI5GB_ydnQ",
      "execution_count": 9,
      "outputs": []
    },
    {
      "cell_type": "markdown",
      "source": [
        "2. Want to check if the `blood_types` stocks contains O- type or not\n",
        "\n",
        "  If yes display as `TRUE`\n",
        "  \n",
        "  If not display as `FALSE`\n",
        "\n",
        "(Hint: using something like this:`[blood_type to observe] in [tuple_variable]`"
      ],
      "metadata": {
        "id": "5nsj0abXywAb"
      },
      "id": "5nsj0abXywAb"
    },
    {
      "cell_type": "code",
      "source": [
        "# Let's generate some codes here!"
      ],
      "metadata": {
        "id": "PQBQ1yziy9zz"
      },
      "id": "PQBQ1yziy9zz",
      "execution_count": null,
      "outputs": []
    },
    {
      "cell_type": "markdown",
      "id": "72dbcaf8",
      "metadata": {
        "id": "72dbcaf8"
      },
      "source": [
        "### 7. Dictionaries\n",
        "\n",
        "Dictionaries store key-value pairs, perfect for medical records."
      ]
    },
    {
      "cell_type": "code",
      "execution_count": null,
      "id": "bfc6b982",
      "metadata": {
        "id": "bfc6b982"
      },
      "outputs": [],
      "source": [
        "patient = {\n",
        "    \"name\": \"John Doe\",\n",
        "    \"age\": 45,\n",
        "    \"blood_type\": \"O+\",\n",
        "    \"conditions\": [\"hypertension\", \"diabetes\"]\n",
        "}\n",
        "\n",
        "print(patient[\"name\"])\n",
        "print(patient.get(\"conditions\"))"
      ]
    },
    {
      "cell_type": "markdown",
      "id": "c7991fbc",
      "metadata": {
        "id": "c7991fbc"
      },
      "source": [
        "### 8. Conditionals\n",
        "\n",
        "Conditional statements make decisions based on data."
      ]
    },
    {
      "cell_type": "code",
      "execution_count": null,
      "id": "5cda8220",
      "metadata": {
        "id": "5cda8220"
      },
      "outputs": [],
      "source": [
        "def check_fever(temperature):\n",
        "    if temperature > 38.0:\n",
        "        return \"Fever detected\"\n",
        "    elif temperature >= 37.5:\n",
        "        return \"Elevated temperature\"\n",
        "    else:\n",
        "        return \"Normal temperature\"\n",
        "\n",
        "print(check_fever(38.5))"
      ]
    },
    {
      "cell_type": "markdown",
      "id": "c969bf12",
      "metadata": {
        "id": "c969bf12"
      },
      "source": [
        "### 9. Loops\n",
        "\n",
        "Loops iterate over data collections."
      ]
    },
    {
      "cell_type": "code",
      "execution_count": null,
      "id": "7afd668f",
      "metadata": {
        "id": "7afd668f"
      },
      "outputs": [],
      "source": [
        "# For loop with temperatures\n",
        "temperatures = [36.5, 37.0, 38.5, 37.2]\n",
        "for temp in temperatures:\n",
        "    print(check_fever(temp))"
      ]
    },
    {
      "cell_type": "markdown",
      "id": "57791cb7",
      "metadata": {
        "id": "57791cb7"
      },
      "source": [
        "### 10. Functions (20 minutes)\n",
        "\n",
        "Functions are reusable blocks of code."
      ]
    },
    {
      "cell_type": "code",
      "execution_count": null,
      "id": "9b88ceff",
      "metadata": {
        "id": "9b88ceff"
      },
      "outputs": [],
      "source": [
        "def calculate_bmi(weight, height):\n",
        "    \"\"\"Calculate Body Mass Index\"\"\"\n",
        "    return weight / (height ** 2)\n",
        "\n",
        "def interpret_bmi(bmi):\n",
        "    \"\"\"Interpret BMI value\"\"\"\n",
        "    if bmi < 18.5:\n",
        "        return \"Underweight\"\n",
        "    elif bmi < 25:\n",
        "        return \"Normal\"\n",
        "    elif bmi < 30:\n",
        "        return \"Overweight\"\n",
        "    else:\n",
        "        return \"Obese\""
      ]
    },
    {
      "cell_type": "code",
      "execution_count": null,
      "id": "f1a4fbcc",
      "metadata": {
        "id": "f1a4fbcc"
      },
      "outputs": [],
      "source": [
        "# Example usage\n",
        "weight = 70  # kg\n",
        "height = 1.75  # m\n",
        "bmi = calculate_bmi(weight, height)\n",
        "print(f\"BMI: {bmi:.1f}\")\n",
        "print(f\"Category: {interpret_bmi(bmi)}\")"
      ]
    }
  ],
  "metadata": {
    "kernelspec": {
      "display_name": "Python 3",
      "name": "python3"
    },
    "language_info": {
      "codemirror_mode": {
        "name": "ipython",
        "version": 3
      },
      "file_extension": ".py",
      "mimetype": "text/x-python",
      "name": "python",
      "nbconvert_exporter": "python",
      "pygments_lexer": "ipython3",
      "version": "3.8.8"
    },
    "colab": {
      "provenance": [],
      "gpuType": "T4"
    }
  },
  "nbformat": 4,
  "nbformat_minor": 5
}